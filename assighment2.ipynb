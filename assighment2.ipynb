{
 "cells": [
  {
   "cell_type": "code",
   "execution_count": null,
   "id": "313cd813-6fc9-4316-ba95-0f3e257f5511",
   "metadata": {},
   "outputs": [],
   "source": [
    "1- write a programme that accept the string from user. your programme should count and display number of vowels in that string."
   ]
  },
  {
   "cell_type": "code",
   "execution_count": 21,
   "id": "8e890a1e-fa3e-4c26-ab18-9403eeee0661",
   "metadata": {
    "scrolled": true
   },
   "outputs": [
    {
     "name": "stdin",
     "output_type": "stream",
     "text": [
      "enter the string= aei\n"
     ]
    },
    {
     "name": "stdout",
     "output_type": "stream",
     "text": [
      "number of vowels in strings are 3  3\n"
     ]
    }
   ],
   "source": [
    "a =input(\"enter the string=\")\n",
    "vowels =\"aeiouAEIOU\"\n",
    "\n",
    "number = 0\n",
    "\n",
    "\n",
    "for q in a:\n",
    " if q in vowels:\n",
    "    number +=1\n",
    "\n",
    "print(\"number of vowels in strings are  \",number)"
   ]
  },
  {
   "cell_type": "raw",
   "id": "e9857b88-b652-4286-af90-8d5af9589ed9",
   "metadata": {},
   "source": [
    "2-write a programme that reads a string from keyboard and display\n",
    "*the number of uppercase letters in the string\n",
    "*the number of lowercase letters in the strings\n",
    "*the number of the digits in the strings\n",
    "*the number of whitespace character in the string\n"
   ]
  },
  {
   "cell_type": "code",
   "execution_count": null,
   "id": "87154068-94b2-4d6f-94e8-6f847a868417",
   "metadata": {},
   "outputs": [],
   "source": [
    "a=input(\"please enter the string=\")\n",
    "\n",
    "uppercase=0\n",
    "lowercase=0\n",
    "digit=0\n",
    "space=0\n",
    "for w in a:\n",
    "   if  w.isspace():\n",
    "       space +=1\n",
    "   elif w.islower():\n",
    "        lowercase +=1\n",
    "   elif w.isdigit():\n",
    "       digit +=1\n",
    "   elif w.isupper():\n",
    "        uppercase +=1\n",
    "\n",
    "print(f\"the number of uppercase letters in the string {uppercase}\")\n",
    "print(f\"the number of lowercase letters in the strings { lowercase}\")\n",
    "print(f\"the number of the digits in the strings {digit}\")\n",
    "print(f\"the number of whitespace character in the string C{space}\")"
   ]
  },
  {
   "cell_type": "raw",
   "id": "bc82bfc5-5f11-4352-8270-7833d2f7698e",
   "metadata": {},
   "source": [
    "3-write a programme that accept a string from user . your programme should create and display a new string where  the first and last characters have been exchanged.\n",
    "For Example if the user enters  the string 'HELLO' the new string would be'OELLH'"
   ]
  },
  {
   "cell_type": "code",
   "execution_count": 46,
   "id": "43096949-9702-4240-9721-b5bcb660cb23",
   "metadata": {},
   "outputs": [
    {
     "name": "stdin",
     "output_type": "stream",
     "text": [
      "enter the character= khizar\n"
     ]
    },
    {
     "name": "stdout",
     "output_type": "stream",
     "text": [
      "changing the elphabate:rhizak\n"
     ]
    }
   ],
   "source": [
    "a=input(\"enter the character=\")\n",
    "new_output=a[-1]+a[1:-1]+a[0]\n",
    "print (f\"changing the elphabate:{new_output}\")"
   ]
  },
  {
   "cell_type": "markdown",
   "id": "45c36f91-ef1d-446f-ba4e-06710d69f8c1",
   "metadata": {},
   "source": [
    "4-Write a  python programme that accept a string from user. your programme should create a new string in reverse of first string and display it\n",
    "for eample if the user enters the string 'EXAM' then new strin would be 'MAXE'"
   ]
  },
  {
   "cell_type": "code",
   "execution_count": 52,
   "id": "a4babdc3-e6f9-4f93-a74c-01618f82f8e8",
   "metadata": {},
   "outputs": [
    {
     "name": "stdin",
     "output_type": "stream",
     "text": [
      "Enter the String EXAM\n"
     ]
    },
    {
     "name": "stdout",
     "output_type": "stream",
     "text": [
      "reverse string is MAXE\n"
     ]
    }
   ],
   "source": [
    "a= input(\"Enter the String\")\n",
    "b=a[::-1]\n",
    "print(f\"reverse string is {b}\")"
   ]
  },
  {
   "cell_type": "code",
   "execution_count": 55,
   "id": "62b7390a-b100-40fe-9552-8fa227c26f4b",
   "metadata": {},
   "outputs": [
    {
     "name": "stdin",
     "output_type": "stream",
     "text": [
      "Enter the String khizar\n"
     ]
    },
    {
     "name": "stdout",
     "output_type": "stream",
     "text": [
      "reverse string is razihk\n"
     ]
    }
   ],
   "source": [
    "a= input(\"Enter the String\")\n",
    "b=\"\"\n",
    "for c in a:\n",
    "   b= c+b\n",
    "print(f\"reverse string is {b}\")"
   ]
  },
  {
   "cell_type": "raw",
   "id": "75201468-91f3-4f3a-a9c7-8dfd46c10fdd",
   "metadata": {},
   "source": [
    "5-write a python programme that accepts a string from user .your programme should create a new string by shifting  one position to left\n",
    "for example if the user enter the string examination 2021 then new string would be 'xamination2021e'"
   ]
  },
  {
   "cell_type": "code",
   "execution_count": 96,
   "id": "2e36837d-ce0b-424a-96dd-2f0f95aa2b4b",
   "metadata": {},
   "outputs": [
    {
     "name": "stdin",
     "output_type": "stream",
     "text": [
      "enter the string= exam\n"
     ]
    },
    {
     "name": "stdout",
     "output_type": "stream",
     "text": [
      "xame\n"
     ]
    }
   ],
   "source": [
    "a=input(\"enter the string=\")\n",
    "b= a[1:]+a[0]\n",
    "\n",
    "print(b)\n",
    " \n",
    "\n"
   ]
  },
  {
   "cell_type": "raw",
   "id": "2db8df83-7e0f-476c-b1ef-bde7d15f5944",
   "metadata": {},
   "source": [
    "6-write a programme that ask the user  to input his name and print its initial. Assuming that the user  always type first name , middle name and last name  and does not include any unnecessery spaces \n",
    "for example, if the user enter  Ajay kumar Garg the programe should display A.K.G\n",
    "Note do not use split() method."
   ]
  },
  {
   "cell_type": "code",
   "execution_count": 103,
   "id": "10610cfb-f38b-4dfa-afbf-4440093ca7fa",
   "metadata": {},
   "outputs": [
    {
     "name": "stdin",
     "output_type": "stream",
     "text": [
      "Enter your Name MUhammad khizar khan\n"
     ]
    },
    {
     "name": "stdout",
     "output_type": "stream",
     "text": [
      "M.k.k\n"
     ]
    }
   ],
   "source": [
    "a=input(\"Enter your Name\")\n",
    "new=a[0].upper() + \".\"\n",
    "for c in range(len(a)):\n",
    "\n",
    "  if a[c] ==\" \":\n",
    "     new +=a[c+1]+ \".\"\n",
    "new=new[:-1]\n",
    "print(new)\n",
    "\n",
    "\n"
   ]
  },
  {
   "cell_type": "raw",
   "id": "ca1fb8ce-951e-41e1-974c-0d3dd6d198b7",
   "metadata": {},
   "source": [
    "7-A palindrome is a string that read the same backward as forward . for example the word dad,madam and radar are all palindrome write a programme that determines whether the string is palindrome.\n",
    "note do not use reverse() method"
   ]
  },
  {
   "cell_type": "code",
   "execution_count": 113,
   "id": "8dd0599c-e1c0-47af-9b85-d02c7eabda5c",
   "metadata": {},
   "outputs": [
    {
     "name": "stdin",
     "output_type": "stream",
     "text": [
      "enter the palindrome= madam\n"
     ]
    },
    {
     "name": "stdout",
     "output_type": "stream",
     "text": [
      "the word is palindrome\n"
     ]
    }
   ],
   "source": [
    "a=input(\"enter the palindrome=\")\n",
    "b = \"\"\n",
    "for c in a:\n",
    " b=c+b\n",
    "    \n",
    "    \n",
    "if a==b:\n",
    "   print(\"the word is palindrome\")\n",
    "else:\n",
    "  print(\" the word is not pelindrome\")\n"
   ]
  },
  {
   "cell_type": "raw",
   "id": "cc80f4c9-0c4c-4ba1-a8dc-22c8914c4f96",
   "metadata": {},
   "source": [
    "8-Write a programme that display following outpit:\n",
    "SHIFT\n",
    "HIFTS\n",
    "IFTSH\n",
    "FTSHI\n",
    "TSHIF\n",
    "SHIFT"
   ]
  },
  {
   "cell_type": "code",
   "execution_count": 120,
   "id": "c0e9053e-31aa-4d9d-9071-578429932c44",
   "metadata": {},
   "outputs": [
    {
     "name": "stdout",
     "output_type": "stream",
     "text": [
      "SHIFT\n",
      "HIFTS\n",
      "IFTSH\n",
      "FTSHI\n",
      "TSHIF\n",
      "SHIFT\n"
     ]
    }
   ],
   "source": [
    "a=\"SHIFT\"\n",
    "for c in range(len(a) +1):\n",
    "    print(a)\n",
    "    a=a[1:]+a[0]\n",
    "\n"
   ]
  },
  {
   "cell_type": "raw",
   "id": "0de04552-9ef1-4f2d-8ddb-be60026dc32d",
   "metadata": {},
   "source": [
    "9-write a programme in python that accepts  a string to setup a password. your entered password must meet the following requirement\n",
    "-it must contain at least one uppercase latter.\n",
    "-it must contain at least one lowercase latter\n",
    "-it must contain atleast one numeric digit\n",
    "-your programe should should perform the validation\n"
   ]
  },
  {
   "cell_type": "code",
   "execution_count": 139,
   "id": "3b3dc5c8-4402-4c04-9e8c-5c2248c9bc2f",
   "metadata": {},
   "outputs": [
    {
     "name": "stdin",
     "output_type": "stream",
     "text": [
      "enter your password= Khizar1\n"
     ]
    },
    {
     "name": "stdout",
     "output_type": "stream",
     "text": [
      "Password is Valid\n"
     ]
    }
   ],
   "source": [
    "a=input(\"enter your password=\")\n",
    "\n",
    "uper_case_1=False\n",
    "lower_case_1=False\n",
    "digit_required_1=False\n",
    "\n",
    "for b in a:\n",
    "\n",
    "  if b.isupper():\n",
    "     uper_case_1=True\n",
    "  elif b.islower():\n",
    "     lower_case_1=True\n",
    "  elif b.isdigit():\n",
    "    digit_required_1=True\n",
    "\n",
    "if uper_case_1 and lower_case_1 and digit_required_1:\n",
    "    print (\"Password is Valid\")\n",
    "else:\n",
    "    print(\"Password is not valid\")\n",
    "     \n",
    "     \n",
    "\n"
   ]
  },
  {
   "cell_type": "code",
   "execution_count": null,
   "id": "8062af22-8576-47b8-b16e-e6d0c7a76c48",
   "metadata": {},
   "outputs": [],
   "source": []
  }
 ],
 "metadata": {
  "kernelspec": {
   "display_name": "Python 3 (ipykernel)",
   "language": "python",
   "name": "python3"
  },
  "language_info": {
   "codemirror_mode": {
    "name": "ipython",
    "version": 3
   },
   "file_extension": ".py",
   "mimetype": "text/x-python",
   "name": "python",
   "nbconvert_exporter": "python",
   "pygments_lexer": "ipython3",
   "version": "3.13.5"
  }
 },
 "nbformat": 4,
 "nbformat_minor": 5
}
